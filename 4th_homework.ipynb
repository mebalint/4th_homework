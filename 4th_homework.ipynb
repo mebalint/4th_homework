{
  "nbformat": 4,
  "nbformat_minor": 0,
  "metadata": {
    "colab": {
      "name": "4th_homework.ipynb",
      "provenance": [],
      "collapsed_sections": [],
      "authorship_tag": "ABX9TyOoobXOlp4W0tlSOJ8WmROD",
      "include_colab_link": true
    },
    "kernelspec": {
      "name": "python3",
      "display_name": "Python 3"
    },
    "language_info": {
      "name": "python"
    },
    "accelerator": "GPU"
  },
  "cells": [
    {
      "cell_type": "markdown",
      "metadata": {
        "id": "view-in-github",
        "colab_type": "text"
      },
      "source": [
        "<a href=\"https://colab.research.google.com/github/mebalint/4th_homework/blob/main/4th_homework.ipynb\" target=\"_parent\"><img src=\"https://colab.research.google.com/assets/colab-badge.svg\" alt=\"Open In Colab\"/></a>"
      ]
    },
    {
      "cell_type": "markdown",
      "metadata": {
        "id": "1jPaYIVMjoh8"
      },
      "source": [
        "**Deep Learning 4th homework**"
      ]
    },
    {
      "cell_type": "code",
      "metadata": {
        "colab": {
          "base_uri": "https://localhost:8080/"
        },
        "id": "ZMk94oqTjeRZ",
        "outputId": "cb19e266-8b82-42d9-b79c-c2ccc02522a4"
      },
      "source": [
        "# installing fiftyone\n",
        "!pip install fiftyone"
      ],
      "execution_count": 1,
      "outputs": [
        {
          "output_type": "stream",
          "name": "stdout",
          "text": [
            "Collecting fiftyone\n",
            "  Downloading fiftyone-0.14.2-py3-none-any.whl (1.2 MB)\n",
            "\u001b[K     |████████████████████████████████| 1.2 MB 5.4 MB/s \n",
            "\u001b[?25hRequirement already satisfied: retrying in /usr/local/lib/python3.7/dist-packages (from fiftyone) (1.3.3)\n",
            "Collecting voxel51-eta<0.7,>=0.6.1\n",
            "  Downloading voxel51_eta-0.6.1-py2.py3-none-any.whl (562 kB)\n",
            "\u001b[K     |████████████████████████████████| 562 kB 34.3 MB/s \n",
            "\u001b[?25hCollecting fiftyone-db<0.4,>=0.3\n",
            "  Downloading fiftyone_db-0.3.0-py3-none-manylinux1_x86_64.whl (29.2 MB)\n",
            "\u001b[K     |████████████████████████████████| 29.2 MB 1.0 MB/s \n",
            "\u001b[?25hRequirement already satisfied: future in /usr/local/lib/python3.7/dist-packages (from fiftyone) (0.16.0)\n",
            "Requirement already satisfied: pandas in /usr/local/lib/python3.7/dist-packages (from fiftyone) (1.1.5)\n",
            "Requirement already satisfied: Jinja2 in /usr/local/lib/python3.7/dist-packages (from fiftyone) (2.11.3)\n",
            "Requirement already satisfied: Pillow>=6.2 in /usr/local/lib/python3.7/dist-packages (from fiftyone) (7.1.2)\n",
            "Requirement already satisfied: tornado<7,>=5.1.1 in /usr/local/lib/python3.7/dist-packages (from fiftyone) (5.1.1)\n",
            "Collecting xmltodict\n",
            "  Downloading xmltodict-0.12.0-py2.py3-none-any.whl (9.2 kB)\n",
            "Collecting eventlet\n",
            "  Downloading eventlet-0.33.0-py2.py3-none-any.whl (226 kB)\n",
            "\u001b[K     |████████████████████████████████| 226 kB 44.5 MB/s \n",
            "\u001b[?25hCollecting fiftyone-brain<0.8,>=0.7.2\n",
            "  Downloading fiftyone_brain-0.7.2-cp37-cp37m-manylinux1_x86_64.whl (639 kB)\n",
            "\u001b[K     |████████████████████████████████| 639 kB 36.3 MB/s \n",
            "\u001b[?25hCollecting kaleido\n",
            "  Downloading kaleido-0.2.1-py2.py3-none-manylinux1_x86_64.whl (79.9 MB)\n",
            "\u001b[K     |████████████████████████████████| 79.9 MB 104 kB/s \n",
            "\u001b[?25hRequirement already satisfied: tabulate in /usr/local/lib/python3.7/dist-packages (from fiftyone) (0.8.9)\n",
            "Collecting pprintpp\n",
            "  Downloading pprintpp-0.4.0-py2.py3-none-any.whl (16 kB)\n",
            "Requirement already satisfied: setuptools in /usr/local/lib/python3.7/dist-packages (from fiftyone) (57.4.0)\n",
            "Collecting mongoengine==0.20.0\n",
            "  Downloading mongoengine-0.20.0-py3-none-any.whl (106 kB)\n",
            "\u001b[K     |████████████████████████████████| 106 kB 47.5 MB/s \n",
            "\u001b[?25hRequirement already satisfied: packaging in /usr/local/lib/python3.7/dist-packages (from fiftyone) (21.3)\n",
            "Requirement already satisfied: pytz in /usr/local/lib/python3.7/dist-packages (from fiftyone) (2018.9)\n",
            "Collecting boto3\n",
            "  Downloading boto3-1.20.13-py3-none-any.whl (131 kB)\n",
            "\u001b[K     |████████████████████████████████| 131 kB 47.0 MB/s \n",
            "\u001b[?25hRequirement already satisfied: PyYAML in /usr/local/lib/python3.7/dist-packages (from fiftyone) (3.13)\n",
            "Requirement already satisfied: pymongo<4,>=3.11 in /usr/local/lib/python3.7/dist-packages (from fiftyone) (3.12.1)\n",
            "Collecting motor<3,>=2.3\n",
            "  Downloading motor-2.5.1-py3-none-any.whl (55 kB)\n",
            "\u001b[K     |████████████████████████████████| 55 kB 3.5 MB/s \n",
            "\u001b[?25hCollecting plotly<5,>=4.14\n",
            "  Downloading plotly-4.14.3-py2.py3-none-any.whl (13.2 MB)\n",
            "\u001b[K     |████████████████████████████████| 13.2 MB 16.4 MB/s \n",
            "\u001b[?25hCollecting universal-analytics-python3<2,>=1.0.1\n",
            "  Downloading universal_analytics_python3-1.1.1-py3-none-any.whl (10 kB)\n",
            "Requirement already satisfied: matplotlib in /usr/local/lib/python3.7/dist-packages (from fiftyone) (3.2.2)\n",
            "Requirement already satisfied: scikit-learn in /usr/local/lib/python3.7/dist-packages (from fiftyone) (1.0.1)\n",
            "Requirement already satisfied: argcomplete in /usr/local/lib/python3.7/dist-packages (from fiftyone) (1.12.3)\n",
            "Collecting opencv-python-headless\n",
            "  Downloading opencv_python_headless-4.5.4.60-cp37-cp37m-manylinux_2_17_x86_64.manylinux2014_x86_64.whl (47.6 MB)\n",
            "\u001b[K     |████████████████████████████████| 47.6 MB 1.5 MB/s \n",
            "\u001b[?25hCollecting Deprecated\n",
            "  Downloading Deprecated-1.2.13-py2.py3-none-any.whl (9.6 kB)\n",
            "Collecting aiofiles\n",
            "  Downloading aiofiles-0.7.0-py3-none-any.whl (13 kB)\n",
            "Requirement already satisfied: scikit-image in /usr/local/lib/python3.7/dist-packages (from fiftyone) (0.18.3)\n",
            "Requirement already satisfied: numpy in /usr/local/lib/python3.7/dist-packages (from fiftyone) (1.19.5)\n",
            "Requirement already satisfied: psutil in /usr/local/lib/python3.7/dist-packages (from fiftyone) (5.4.8)\n",
            "Requirement already satisfied: scipy>=1.2.0 in /usr/local/lib/python3.7/dist-packages (from fiftyone-brain<0.8,>=0.7.2->fiftyone) (1.4.1)\n",
            "Requirement already satisfied: six in /usr/local/lib/python3.7/dist-packages (from plotly<5,>=4.14->fiftyone) (1.15.0)\n",
            "Collecting httpx>=0.10.0\n",
            "  Downloading httpx-0.21.1-py3-none-any.whl (83 kB)\n",
            "\u001b[K     |████████████████████████████████| 83 kB 1.9 MB/s \n",
            "\u001b[?25hRequirement already satisfied: certifi in /usr/local/lib/python3.7/dist-packages (from httpx>=0.10.0->universal-analytics-python3<2,>=1.0.1->fiftyone) (2021.10.8)\n",
            "Requirement already satisfied: charset-normalizer in /usr/local/lib/python3.7/dist-packages (from httpx>=0.10.0->universal-analytics-python3<2,>=1.0.1->fiftyone) (2.0.7)\n",
            "Collecting rfc3986[idna2008]<2,>=1.3\n",
            "  Downloading rfc3986-1.5.0-py2.py3-none-any.whl (31 kB)\n",
            "Collecting sniffio\n",
            "  Downloading sniffio-1.2.0-py3-none-any.whl (10 kB)\n",
            "Collecting httpcore<0.15.0,>=0.14.0\n",
            "  Downloading httpcore-0.14.3-py3-none-any.whl (56 kB)\n",
            "\u001b[K     |████████████████████████████████| 56 kB 4.2 MB/s \n",
            "\u001b[?25hCollecting anyio==3.*\n",
            "  Downloading anyio-3.4.0-py3-none-any.whl (78 kB)\n",
            "\u001b[K     |████████████████████████████████| 78 kB 7.3 MB/s \n",
            "\u001b[?25hCollecting h11<0.13,>=0.11\n",
            "  Downloading h11-0.12.0-py3-none-any.whl (54 kB)\n",
            "\u001b[K     |████████████████████████████████| 54 kB 3.2 MB/s \n",
            "\u001b[?25hRequirement already satisfied: idna>=2.8 in /usr/local/lib/python3.7/dist-packages (from anyio==3.*->httpcore<0.15.0,>=0.14.0->httpx>=0.10.0->universal-analytics-python3<2,>=1.0.1->fiftyone) (2.10)\n",
            "Requirement already satisfied: typing-extensions in /usr/local/lib/python3.7/dist-packages (from anyio==3.*->httpcore<0.15.0,>=0.14.0->httpx>=0.10.0->universal-analytics-python3<2,>=1.0.1->fiftyone) (3.10.0.2)\n",
            "Collecting ndjson\n",
            "  Downloading ndjson-0.3.1-py2.py3-none-any.whl (5.3 kB)\n",
            "Requirement already satisfied: sortedcontainers in /usr/local/lib/python3.7/dist-packages (from voxel51-eta<0.7,>=0.6.1->fiftyone) (2.4.0)\n",
            "Requirement already satisfied: python-dateutil in /usr/local/lib/python3.7/dist-packages (from voxel51-eta<0.7,>=0.6.1->fiftyone) (2.8.2)\n",
            "Requirement already satisfied: dill in /usr/local/lib/python3.7/dist-packages (from voxel51-eta<0.7,>=0.6.1->fiftyone) (0.3.4)\n",
            "Requirement already satisfied: importlib-metadata in /usr/local/lib/python3.7/dist-packages (from voxel51-eta<0.7,>=0.6.1->fiftyone) (4.8.2)\n",
            "Requirement already satisfied: requests in /usr/local/lib/python3.7/dist-packages (from voxel51-eta<0.7,>=0.6.1->fiftyone) (2.23.0)\n",
            "Collecting patool\n",
            "  Downloading patool-1.12-py2.py3-none-any.whl (77 kB)\n",
            "\u001b[K     |████████████████████████████████| 77 kB 6.3 MB/s \n",
            "\u001b[?25hRequirement already satisfied: glob2 in /usr/local/lib/python3.7/dist-packages (from voxel51-eta<0.7,>=0.6.1->fiftyone) (0.7)\n",
            "Requirement already satisfied: tzlocal in /usr/local/lib/python3.7/dist-packages (from voxel51-eta<0.7,>=0.6.1->fiftyone) (1.5.1)\n",
            "Requirement already satisfied: zipp>=0.5 in /usr/local/lib/python3.7/dist-packages (from importlib-metadata->voxel51-eta<0.7,>=0.6.1->fiftyone) (3.6.0)\n",
            "Collecting botocore<1.24.0,>=1.23.13\n",
            "  Downloading botocore-1.23.13-py3-none-any.whl (8.2 MB)\n",
            "\u001b[K     |████████████████████████████████| 8.2 MB 19.6 MB/s \n",
            "\u001b[?25hCollecting s3transfer<0.6.0,>=0.5.0\n",
            "  Downloading s3transfer-0.5.0-py3-none-any.whl (79 kB)\n",
            "\u001b[K     |████████████████████████████████| 79 kB 8.1 MB/s \n",
            "\u001b[?25hCollecting jmespath<1.0.0,>=0.7.1\n",
            "  Downloading jmespath-0.10.0-py2.py3-none-any.whl (24 kB)\n",
            "Collecting urllib3<1.27,>=1.25.4\n",
            "  Downloading urllib3-1.26.7-py2.py3-none-any.whl (138 kB)\n",
            "\u001b[K     |████████████████████████████████| 138 kB 49.9 MB/s \n",
            "\u001b[?25hRequirement already satisfied: wrapt<2,>=1.10 in /usr/local/lib/python3.7/dist-packages (from Deprecated->fiftyone) (1.13.3)\n",
            "Requirement already satisfied: greenlet>=0.3 in /usr/local/lib/python3.7/dist-packages (from eventlet->fiftyone) (1.1.2)\n",
            "Collecting dnspython>=1.15.0\n",
            "  Downloading dnspython-2.1.0-py3-none-any.whl (241 kB)\n",
            "\u001b[K     |████████████████████████████████| 241 kB 51.9 MB/s \n",
            "\u001b[?25hRequirement already satisfied: MarkupSafe>=0.23 in /usr/local/lib/python3.7/dist-packages (from Jinja2->fiftyone) (2.0.1)\n",
            "Requirement already satisfied: pyparsing!=2.0.4,!=2.1.2,!=2.1.6,>=2.0.1 in /usr/local/lib/python3.7/dist-packages (from matplotlib->fiftyone) (3.0.6)\n",
            "Requirement already satisfied: cycler>=0.10 in /usr/local/lib/python3.7/dist-packages (from matplotlib->fiftyone) (0.11.0)\n",
            "Requirement already satisfied: kiwisolver>=1.0.1 in /usr/local/lib/python3.7/dist-packages (from matplotlib->fiftyone) (1.3.2)\n",
            "Collecting urllib3<1.27,>=1.25.4\n",
            "  Downloading urllib3-1.25.11-py2.py3-none-any.whl (127 kB)\n",
            "\u001b[K     |████████████████████████████████| 127 kB 48.3 MB/s \n",
            "\u001b[?25hRequirement already satisfied: chardet<4,>=3.0.2 in /usr/local/lib/python3.7/dist-packages (from requests->voxel51-eta<0.7,>=0.6.1->fiftyone) (3.0.4)\n",
            "Requirement already satisfied: PyWavelets>=1.1.1 in /usr/local/lib/python3.7/dist-packages (from scikit-image->fiftyone) (1.2.0)\n",
            "Requirement already satisfied: networkx>=2.0 in /usr/local/lib/python3.7/dist-packages (from scikit-image->fiftyone) (2.6.3)\n",
            "Requirement already satisfied: tifffile>=2019.7.26 in /usr/local/lib/python3.7/dist-packages (from scikit-image->fiftyone) (2021.11.2)\n",
            "Requirement already satisfied: imageio>=2.3.0 in /usr/local/lib/python3.7/dist-packages (from scikit-image->fiftyone) (2.4.1)\n",
            "Requirement already satisfied: threadpoolctl>=2.0.0 in /usr/local/lib/python3.7/dist-packages (from scikit-learn->fiftyone) (3.0.0)\n",
            "Requirement already satisfied: joblib>=0.11 in /usr/local/lib/python3.7/dist-packages (from scikit-learn->fiftyone) (1.1.0)\n",
            "Installing collected packages: sniffio, urllib3, rfc3986, jmespath, h11, anyio, httpcore, botocore, s3transfer, patool, opencv-python-headless, ndjson, httpx, dnspython, xmltodict, voxel51-eta, universal-analytics-python3, pprintpp, plotly, motor, mongoengine, kaleido, fiftyone-db, fiftyone-brain, eventlet, Deprecated, boto3, aiofiles, fiftyone\n",
            "  Attempting uninstall: urllib3\n",
            "    Found existing installation: urllib3 1.24.3\n",
            "    Uninstalling urllib3-1.24.3:\n",
            "      Successfully uninstalled urllib3-1.24.3\n",
            "  Attempting uninstall: plotly\n",
            "    Found existing installation: plotly 4.4.1\n",
            "    Uninstalling plotly-4.4.1:\n",
            "      Successfully uninstalled plotly-4.4.1\n",
            "\u001b[31mERROR: pip's dependency resolver does not currently take into account all the packages that are installed. This behaviour is the source of the following dependency conflicts.\n",
            "datascience 0.10.6 requires folium==0.2.1, but you have folium 0.8.3 which is incompatible.\u001b[0m\n",
            "Successfully installed Deprecated-1.2.13 aiofiles-0.7.0 anyio-3.4.0 boto3-1.20.13 botocore-1.23.13 dnspython-2.1.0 eventlet-0.33.0 fiftyone-0.14.2 fiftyone-brain-0.7.2 fiftyone-db-0.3.0 h11-0.12.0 httpcore-0.14.3 httpx-0.21.1 jmespath-0.10.0 kaleido-0.2.1 mongoengine-0.20.0 motor-2.5.1 ndjson-0.3.1 opencv-python-headless-4.5.4.60 patool-1.12 plotly-4.14.3 pprintpp-0.4.0 rfc3986-1.5.0 s3transfer-0.5.0 sniffio-1.2.0 universal-analytics-python3-1.1.1 urllib3-1.25.11 voxel51-eta-0.6.1 xmltodict-0.12.0\n"
          ]
        }
      ]
    },
    {
      "cell_type": "code",
      "metadata": {
        "id": "hFlr4H0WjuKA"
      },
      "source": [
        "# importing packages i need\n",
        "import fiftyone as fo\n",
        "import fiftyone.zoo as foz\n",
        "import os"
      ],
      "execution_count": 2,
      "outputs": []
    },
    {
      "cell_type": "code",
      "metadata": {
        "colab": {
          "base_uri": "https://localhost:8080/"
        },
        "id": "zVMinUAilhgg",
        "outputId": "93162944-a93c-4e31-e817-130020ce04a4"
      },
      "source": [
        "# reading the dog dataset in (1st category)\n",
        "dogs = foz.load_zoo_dataset(\n",
        "    \"open-images-v6\",\n",
        "    split=\"validation\",\n",
        "    classes = [\"Dog\"],\n",
        "    max_samples=400,\n",
        "    dataset_name=\"dog\",\n",
        ")"
      ],
      "execution_count": 3,
      "outputs": [
        {
          "output_type": "stream",
          "name": "stdout",
          "text": [
            "Downloading split 'validation' to '/root/fiftyone/open-images-v6/validation' if necessary\n",
            "Downloading 'https://storage.googleapis.com/openimages/2018_04/validation/validation-images-with-rotation.csv' to '/root/fiftyone/open-images-v6/validation/metadata/image_ids.csv'\n",
            "Downloading 'https://storage.googleapis.com/openimages/v5/class-descriptions-boxable.csv' to '/root/fiftyone/open-images-v6/validation/metadata/classes.csv'\n",
            "Downloading 'https://storage.googleapis.com/openimages/v6/oidv6-attributes-description.csv' to '/root/fiftyone/open-images-v6/validation/metadata/attributes.csv'\n",
            "Downloading 'https://storage.googleapis.com/openimages/v5/classes-segmentation.txt' to '/root/fiftyone/open-images-v6/validation/metadata/segmentation_classes.csv'\n",
            "Downloading 'https://storage.googleapis.com/openimages/2018_04/bbox_labels_600_hierarchy.json' to '/tmp/tmpm23t5tlo/metadata/hierarchy.json'\n",
            "Downloading 'https://storage.googleapis.com/openimages/v5/validation-annotations-human-imagelabels-boxable.csv' to '/root/fiftyone/open-images-v6/validation/labels/classifications.csv'\n",
            "Downloading 'https://storage.googleapis.com/openimages/v5/validation-annotations-bbox.csv' to '/root/fiftyone/open-images-v6/validation/labels/detections.csv'\n",
            "Downloading 'https://storage.googleapis.com/openimages/v6/oidv6-validation-annotations-vrd.csv' to '/root/fiftyone/open-images-v6/validation/labels/relationships.csv'\n",
            "Downloading 'https://storage.googleapis.com/openimages/v5/validation-annotations-object-segmentation.csv' to '/root/fiftyone/open-images-v6/validation/labels/segmentations.csv'\n",
            "Downloading 400 images\n",
            " 100% |███████████████████| 400/400 [27.8s elapsed, 0s remaining, 12.3 files/s]      \n",
            "Dataset info written to '/root/fiftyone/open-images-v6/info.json'\n",
            "Loading 'open-images-v6' split 'validation'\n",
            " 100% |█████████████████| 400/400 [14.8s elapsed, 0s remaining, 73.4 samples/s]      \n",
            "Dataset 'dog' created\n"
          ]
        }
      ]
    },
    {
      "cell_type": "code",
      "metadata": {
        "colab": {
          "base_uri": "https://localhost:8080/"
        },
        "id": "K6vMum_yEUfk",
        "outputId": "2de1be55-0698-461e-af54-b911196df0f7"
      },
      "source": [
        "# reading the car dataset in (2nd category)\n",
        "cars = foz.load_zoo_dataset(\n",
        "    \"open-images-v6\",\n",
        "    split=\"validation\",\n",
        "    classes = [\"Car\"],\n",
        "    max_samples=400,\n",
        "    dataset_name=\"car\",\n",
        ")"
      ],
      "execution_count": 4,
      "outputs": [
        {
          "output_type": "stream",
          "name": "stdout",
          "text": [
            "Downloading split 'validation' to '/root/fiftyone/open-images-v6/validation' if necessary\n",
            "Found 7 images, downloading the remaining 393\n",
            " 100% |███████████████████| 393/393 [28.3s elapsed, 0s remaining, 14.6 files/s]      \n",
            "Dataset info written to '/root/fiftyone/open-images-v6/info.json'\n",
            "Loading 'open-images-v6' split 'validation'\n",
            " 100% |█████████████████| 400/400 [17.9s elapsed, 0s remaining, 50.2 samples/s]      \n",
            "Dataset 'car' created\n"
          ]
        }
      ]
    },
    {
      "cell_type": "code",
      "metadata": {
        "colab": {
          "base_uri": "https://localhost:8080/"
        },
        "id": "NJKOvbqRGS85",
        "outputId": "5a663e48-1872-4a5a-93c7-46096d570cae"
      },
      "source": [
        "# reading the boy dataset in (3rd category)\n",
        "boys = foz.load_zoo_dataset(\n",
        "    \"open-images-v6\",\n",
        "    split=\"validation\",\n",
        "    classes = [\"Boy\"],\n",
        "    max_samples=400,\n",
        "    dataset_name=\"boy\",\n",
        ")"
      ],
      "execution_count": 5,
      "outputs": [
        {
          "output_type": "stream",
          "name": "stdout",
          "text": [
            "Downloading split 'validation' to '/root/fiftyone/open-images-v6/validation' if necessary\n",
            "Found 5 images, downloading the remaining 395\n",
            " 100% |███████████████████| 395/395 [28.5s elapsed, 0s remaining, 13.8 files/s]      \n",
            "Dataset info written to '/root/fiftyone/open-images-v6/info.json'\n",
            "Loading 'open-images-v6' split 'validation'\n",
            " 100% |█████████████████| 400/400 [34.6s elapsed, 0s remaining, 17.2 samples/s]      \n",
            "Dataset 'boy' created\n"
          ]
        }
      ]
    },
    {
      "cell_type": "code",
      "metadata": {
        "colab": {
          "base_uri": "https://localhost:8080/"
        },
        "id": "Z3E62mSLlvB9",
        "outputId": "2dcf4c9c-7206-4c61-dad0-bec9d3149209"
      },
      "source": [
        "# exporting the datasets to local folders\n",
        "dogs.export(\n",
        "   export_dir=\"/images/dataset/train/dogs/\",\n",
        "   dataset_type = fo.types.ImageDirectory,\n",
        ")"
      ],
      "execution_count": 6,
      "outputs": [
        {
          "output_type": "stream",
          "name": "stdout",
          "text": [
            " 100% |█████████████████| 400/400 [3.1s elapsed, 0s remaining, 175.2 samples/s]      \n"
          ]
        }
      ]
    },
    {
      "cell_type": "code",
      "metadata": {
        "colab": {
          "base_uri": "https://localhost:8080/"
        },
        "id": "ommwBFGSGDdL",
        "outputId": "03de6594-cf45-446a-8601-8920fb138e2a"
      },
      "source": [
        "cars.export(\n",
        "   export_dir=\"/images/dataset/train/cars/\",\n",
        "   dataset_type = fo.types.ImageDirectory,\n",
        ")"
      ],
      "execution_count": 7,
      "outputs": [
        {
          "output_type": "stream",
          "name": "stdout",
          "text": [
            " 100% |█████████████████| 400/400 [4.5s elapsed, 0s remaining, 122.5 samples/s]      \n"
          ]
        }
      ]
    },
    {
      "cell_type": "code",
      "metadata": {
        "colab": {
          "base_uri": "https://localhost:8080/"
        },
        "id": "tVKKBmPiHQop",
        "outputId": "fdf1b825-d1a9-40e1-ba74-335c93826b49"
      },
      "source": [
        "boys.export(\n",
        "   export_dir=\"/images/dataset/train/boys/\",\n",
        "   dataset_type = fo.types.ImageDirectory,\n",
        ")"
      ],
      "execution_count": 8,
      "outputs": [
        {
          "output_type": "stream",
          "name": "stdout",
          "text": [
            " 100% |█████████████████| 400/400 [10.6s elapsed, 0s remaining, 46.4 samples/s]      \n"
          ]
        }
      ]
    },
    {
      "cell_type": "code",
      "metadata": {
        "id": "96G1V8hDC66V"
      },
      "source": [
        "boys=os.listdir('/images/dataset/train/boys/')\n",
        "cars=os.listdir('/images/dataset/train/cars/')\n",
        "dogs=os.listdir('/images/dataset/train/dogs/')"
      ],
      "execution_count": 9,
      "outputs": []
    },
    {
      "cell_type": "code",
      "metadata": {
        "id": "qWP0fjCQzQ_u"
      },
      "source": [
        "# moving the data\n",
        "# we want our data in a train-validation-test form,\n",
        "# where the number of images in the datasets 200-100-100 respectively\n",
        "import shutil\n",
        "\n",
        "source_folder = \"/images/dataset/train/\"\n",
        "destination_folder = \"/images/dataset/validation/\"\n",
        "destination_folder_2 = \"/images/test/\"\n",
        "# if we created the directories earlier,\n",
        "# then the code will run in that case too\n",
        "if not os.path.isdir(\"/images/dataset/validation\"):\n",
        "  os.mkdir(\"/images/dataset/validation\")\n",
        "if not os.path.isdir(\"/images/test\"):\n",
        "  os.mkdir(\"/images/test\")\n",
        "\n",
        "# moving the data into the directories\n",
        "for directory_name in ['boys','cars','dogs']:\n",
        "  if not os.path.isdir(destination_folder + directory_name):\n",
        "        os.mkdir(destination_folder + directory_name)\n",
        "  if not os.path.isdir(destination_folder_2 + directory_name):\n",
        "        os.mkdir(destination_folder_2 + directory_name)\n",
        "  # the first 100 samples into the validation folder,\n",
        "  # the second 100 samples into the test folder\n",
        "  # the remaining 200 samples stay in the train folder\n",
        "  for i, file_name in enumerate(os.listdir(source_folder+directory_name)):\n",
        "    if i<100:\n",
        "      source = source_folder + directory_name + '/' + file_name\n",
        "      destination = destination_folder + directory_name + '/' + file_name\n",
        "      shutil.move(source, destination)\n",
        "    elif i<200:\n",
        "      source = source_folder + directory_name + '/' + file_name\n",
        "      destination = destination_folder_2 + directory_name + '/' + file_name\n",
        "      shutil.move(source, destination)      \n"
      ],
      "execution_count": 10,
      "outputs": []
    },
    {
      "cell_type": "code",
      "metadata": {
        "id": "HMtm6Hk6KbZp"
      },
      "source": [
        "# importing packages\n",
        "from tensorflow.keras.models import Model\n",
        "from tensorflow.keras.preprocessing.image import ImageDataGenerator\n",
        "from tensorflow.keras.applications.inception_v3 import InceptionV3,preprocess_input,decode_predictions\n",
        "from tensorflow.keras.preprocessing import image\n",
        "from tensorflow.keras.optimizers import SGD\n",
        "from tensorflow.keras.layers import Dense, GlobalAveragePooling2D\n",
        "from tensorflow.keras import backend as K\n",
        "import numpy as np"
      ],
      "execution_count": 11,
      "outputs": []
    },
    {
      "cell_type": "code",
      "metadata": {
        "id": "AkF7gfcwSnpg"
      },
      "source": [
        "# image size is 299x299 in InceptionV3\n",
        "img_height=299\n",
        "img_width=299"
      ],
      "execution_count": 12,
      "outputs": []
    },
    {
      "cell_type": "code",
      "metadata": {
        "colab": {
          "base_uri": "https://localhost:8080/"
        },
        "id": "1fYViE1ISwKr",
        "outputId": "cd8ede8a-1f84-46c1-b70d-e77e17d3f759"
      },
      "source": [
        "# importing pretrained model, without the fully-connected layers\n",
        "base_model = InceptionV3(weights='imagenet', include_top=False)\n",
        "# we put a global average pooling layer after the last concolutional layer\n",
        "x = base_model.output\n",
        "x = GlobalAveragePooling2D()(x)\n",
        "# adding a feedforward layer with activation ReLu\n",
        "x = Dense(1024, activation='relu')(x)\n",
        "# and finally adding a last layer, there will be 3 outputs\n",
        "# - categorical_crossentropy needs this\n",
        "predictions = Dense(3, activation='softmax')(x)\n",
        "# creating model\n",
        "model = Model(inputs=base_model.input, outputs=predictions)"
      ],
      "execution_count": 13,
      "outputs": [
        {
          "output_type": "stream",
          "name": "stdout",
          "text": [
            "Downloading data from https://storage.googleapis.com/tensorflow/keras-applications/inception_v3/inception_v3_weights_tf_dim_ordering_tf_kernels_notop.h5\n",
            "87916544/87910968 [==============================] - 1s 0us/step\n",
            "87924736/87910968 [==============================] - 1s 0us/step\n"
          ]
        }
      ]
    },
    {
      "cell_type": "code",
      "metadata": {
        "id": "jB1ndsBMT-yS"
      },
      "source": [
        "for layer in base_model.layers:\n",
        "    layer.trainable = False\n",
        "\n",
        "# we do not train the base model, but only the last added layers\n",
        "# we have 3 categories, so we use loss categorical_crossentropy\n",
        "model.compile(optimizer='adam', metrics=['accuracy'],loss='categorical_crossentropy')"
      ],
      "execution_count": 14,
      "outputs": []
    },
    {
      "cell_type": "code",
      "metadata": {
        "id": "sWwGXddCUr_f"
      },
      "source": [
        "train_dir = \"/images/dataset/train\"\n",
        "validation_dir = \"/images/dataset/validation\""
      ],
      "execution_count": 15,
      "outputs": []
    },
    {
      "cell_type": "code",
      "metadata": {
        "colab": {
          "base_uri": "https://localhost:8080/"
        },
        "id": "IYySesiPUeQK",
        "outputId": "15e4bf1d-2906-42b5-b056-42b648ab433e"
      },
      "source": [
        "# preparing images for loading in and data augmentation\n",
        "train_datagen = ImageDataGenerator(rescale=1./255, shear_range=0.2, zoom_range=0.2, horizontal_flip=True)\n",
        "test_datagen = ImageDataGenerator(rescale=1./255)\n",
        "train_generator = train_datagen.flow_from_directory(train_dir, target_size=(img_height, img_width), batch_size=20, class_mode='categorical')\n",
        "validation_generator = test_datagen.flow_from_directory(validation_dir, target_size=(img_height, img_width), batch_size=20, class_mode='categorical')\n"
      ],
      "execution_count": 16,
      "outputs": [
        {
          "output_type": "stream",
          "name": "stdout",
          "text": [
            "Found 600 images belonging to 3 classes.\n",
            "Found 300 images belonging to 3 classes.\n"
          ]
        }
      ]
    },
    {
      "cell_type": "code",
      "metadata": {
        "colab": {
          "base_uri": "https://localhost:8080/"
        },
        "id": "FYxKrMrQWX4o",
        "outputId": "2dd91efc-b71f-4dcc-ad96-3decc792d1f0"
      },
      "source": [
        "# this function does the data augmentation and trains the network at the same time\n",
        "model.fit_generator(train_generator,steps_per_epoch=200,validation_data=validation_generator,validation_steps=10,epochs=3)"
      ],
      "execution_count": 17,
      "outputs": [
        {
          "output_type": "stream",
          "name": "stderr",
          "text": [
            "/usr/local/lib/python3.7/dist-packages/ipykernel_launcher.py:2: UserWarning: `Model.fit_generator` is deprecated and will be removed in a future version. Please use `Model.fit`, which supports generators.\n",
            "  \n"
          ]
        },
        {
          "output_type": "stream",
          "name": "stdout",
          "text": [
            "Epoch 1/3\n",
            " 30/200 [===>..........................] - ETA: 1:56 - loss: 0.5189 - accuracy: 0.8317Your input ran out of data; interrupting training. Make sure that your dataset or generator can generate at least `steps_per_epoch * epochs` batches (in this case, 600 batches). You may need to use the repeat() function when building your dataset.\n",
            "200/200 [==============================] - 42s 130ms/step - loss: 0.5189 - accuracy: 0.8317 - val_loss: 0.2170 - val_accuracy: 0.9300\n"
          ]
        },
        {
          "output_type": "execute_result",
          "data": {
            "text/plain": [
              "<keras.callbacks.History at 0x7f7b6e7f3a10>"
            ]
          },
          "metadata": {},
          "execution_count": 17
        }
      ]
    },
    {
      "cell_type": "code",
      "metadata": {
        "colab": {
          "base_uri": "https://localhost:8080/"
        },
        "id": "s_30VcxwWyK8",
        "outputId": "ad7040ca-8b86-42da-ff7a-792d26aba81f"
      },
      "source": [
        "# we have a look at the structure of the network\n",
        "print(\"Convolutional layers of Inception V3:\")\n",
        "for i, layer in enumerate(base_model.layers):\n",
        "    print(i, layer.name)"
      ],
      "execution_count": 18,
      "outputs": [
        {
          "output_type": "stream",
          "name": "stdout",
          "text": [
            "Convolutional layers of Inception V3:\n",
            "0 input_1\n",
            "1 conv2d\n",
            "2 batch_normalization\n",
            "3 activation\n",
            "4 conv2d_1\n",
            "5 batch_normalization_1\n",
            "6 activation_1\n",
            "7 conv2d_2\n",
            "8 batch_normalization_2\n",
            "9 activation_2\n",
            "10 max_pooling2d\n",
            "11 conv2d_3\n",
            "12 batch_normalization_3\n",
            "13 activation_3\n",
            "14 conv2d_4\n",
            "15 batch_normalization_4\n",
            "16 activation_4\n",
            "17 max_pooling2d_1\n",
            "18 conv2d_8\n",
            "19 batch_normalization_8\n",
            "20 activation_8\n",
            "21 conv2d_6\n",
            "22 conv2d_9\n",
            "23 batch_normalization_6\n",
            "24 batch_normalization_9\n",
            "25 activation_6\n",
            "26 activation_9\n",
            "27 average_pooling2d\n",
            "28 conv2d_5\n",
            "29 conv2d_7\n",
            "30 conv2d_10\n",
            "31 conv2d_11\n",
            "32 batch_normalization_5\n",
            "33 batch_normalization_7\n",
            "34 batch_normalization_10\n",
            "35 batch_normalization_11\n",
            "36 activation_5\n",
            "37 activation_7\n",
            "38 activation_10\n",
            "39 activation_11\n",
            "40 mixed0\n",
            "41 conv2d_15\n",
            "42 batch_normalization_15\n",
            "43 activation_15\n",
            "44 conv2d_13\n",
            "45 conv2d_16\n",
            "46 batch_normalization_13\n",
            "47 batch_normalization_16\n",
            "48 activation_13\n",
            "49 activation_16\n",
            "50 average_pooling2d_1\n",
            "51 conv2d_12\n",
            "52 conv2d_14\n",
            "53 conv2d_17\n",
            "54 conv2d_18\n",
            "55 batch_normalization_12\n",
            "56 batch_normalization_14\n",
            "57 batch_normalization_17\n",
            "58 batch_normalization_18\n",
            "59 activation_12\n",
            "60 activation_14\n",
            "61 activation_17\n",
            "62 activation_18\n",
            "63 mixed1\n",
            "64 conv2d_22\n",
            "65 batch_normalization_22\n",
            "66 activation_22\n",
            "67 conv2d_20\n",
            "68 conv2d_23\n",
            "69 batch_normalization_20\n",
            "70 batch_normalization_23\n",
            "71 activation_20\n",
            "72 activation_23\n",
            "73 average_pooling2d_2\n",
            "74 conv2d_19\n",
            "75 conv2d_21\n",
            "76 conv2d_24\n",
            "77 conv2d_25\n",
            "78 batch_normalization_19\n",
            "79 batch_normalization_21\n",
            "80 batch_normalization_24\n",
            "81 batch_normalization_25\n",
            "82 activation_19\n",
            "83 activation_21\n",
            "84 activation_24\n",
            "85 activation_25\n",
            "86 mixed2\n",
            "87 conv2d_27\n",
            "88 batch_normalization_27\n",
            "89 activation_27\n",
            "90 conv2d_28\n",
            "91 batch_normalization_28\n",
            "92 activation_28\n",
            "93 conv2d_26\n",
            "94 conv2d_29\n",
            "95 batch_normalization_26\n",
            "96 batch_normalization_29\n",
            "97 activation_26\n",
            "98 activation_29\n",
            "99 max_pooling2d_2\n",
            "100 mixed3\n",
            "101 conv2d_34\n",
            "102 batch_normalization_34\n",
            "103 activation_34\n",
            "104 conv2d_35\n",
            "105 batch_normalization_35\n",
            "106 activation_35\n",
            "107 conv2d_31\n",
            "108 conv2d_36\n",
            "109 batch_normalization_31\n",
            "110 batch_normalization_36\n",
            "111 activation_31\n",
            "112 activation_36\n",
            "113 conv2d_32\n",
            "114 conv2d_37\n",
            "115 batch_normalization_32\n",
            "116 batch_normalization_37\n",
            "117 activation_32\n",
            "118 activation_37\n",
            "119 average_pooling2d_3\n",
            "120 conv2d_30\n",
            "121 conv2d_33\n",
            "122 conv2d_38\n",
            "123 conv2d_39\n",
            "124 batch_normalization_30\n",
            "125 batch_normalization_33\n",
            "126 batch_normalization_38\n",
            "127 batch_normalization_39\n",
            "128 activation_30\n",
            "129 activation_33\n",
            "130 activation_38\n",
            "131 activation_39\n",
            "132 mixed4\n",
            "133 conv2d_44\n",
            "134 batch_normalization_44\n",
            "135 activation_44\n",
            "136 conv2d_45\n",
            "137 batch_normalization_45\n",
            "138 activation_45\n",
            "139 conv2d_41\n",
            "140 conv2d_46\n",
            "141 batch_normalization_41\n",
            "142 batch_normalization_46\n",
            "143 activation_41\n",
            "144 activation_46\n",
            "145 conv2d_42\n",
            "146 conv2d_47\n",
            "147 batch_normalization_42\n",
            "148 batch_normalization_47\n",
            "149 activation_42\n",
            "150 activation_47\n",
            "151 average_pooling2d_4\n",
            "152 conv2d_40\n",
            "153 conv2d_43\n",
            "154 conv2d_48\n",
            "155 conv2d_49\n",
            "156 batch_normalization_40\n",
            "157 batch_normalization_43\n",
            "158 batch_normalization_48\n",
            "159 batch_normalization_49\n",
            "160 activation_40\n",
            "161 activation_43\n",
            "162 activation_48\n",
            "163 activation_49\n",
            "164 mixed5\n",
            "165 conv2d_54\n",
            "166 batch_normalization_54\n",
            "167 activation_54\n",
            "168 conv2d_55\n",
            "169 batch_normalization_55\n",
            "170 activation_55\n",
            "171 conv2d_51\n",
            "172 conv2d_56\n",
            "173 batch_normalization_51\n",
            "174 batch_normalization_56\n",
            "175 activation_51\n",
            "176 activation_56\n",
            "177 conv2d_52\n",
            "178 conv2d_57\n",
            "179 batch_normalization_52\n",
            "180 batch_normalization_57\n",
            "181 activation_52\n",
            "182 activation_57\n",
            "183 average_pooling2d_5\n",
            "184 conv2d_50\n",
            "185 conv2d_53\n",
            "186 conv2d_58\n",
            "187 conv2d_59\n",
            "188 batch_normalization_50\n",
            "189 batch_normalization_53\n",
            "190 batch_normalization_58\n",
            "191 batch_normalization_59\n",
            "192 activation_50\n",
            "193 activation_53\n",
            "194 activation_58\n",
            "195 activation_59\n",
            "196 mixed6\n",
            "197 conv2d_64\n",
            "198 batch_normalization_64\n",
            "199 activation_64\n",
            "200 conv2d_65\n",
            "201 batch_normalization_65\n",
            "202 activation_65\n",
            "203 conv2d_61\n",
            "204 conv2d_66\n",
            "205 batch_normalization_61\n",
            "206 batch_normalization_66\n",
            "207 activation_61\n",
            "208 activation_66\n",
            "209 conv2d_62\n",
            "210 conv2d_67\n",
            "211 batch_normalization_62\n",
            "212 batch_normalization_67\n",
            "213 activation_62\n",
            "214 activation_67\n",
            "215 average_pooling2d_6\n",
            "216 conv2d_60\n",
            "217 conv2d_63\n",
            "218 conv2d_68\n",
            "219 conv2d_69\n",
            "220 batch_normalization_60\n",
            "221 batch_normalization_63\n",
            "222 batch_normalization_68\n",
            "223 batch_normalization_69\n",
            "224 activation_60\n",
            "225 activation_63\n",
            "226 activation_68\n",
            "227 activation_69\n",
            "228 mixed7\n",
            "229 conv2d_72\n",
            "230 batch_normalization_72\n",
            "231 activation_72\n",
            "232 conv2d_73\n",
            "233 batch_normalization_73\n",
            "234 activation_73\n",
            "235 conv2d_70\n",
            "236 conv2d_74\n",
            "237 batch_normalization_70\n",
            "238 batch_normalization_74\n",
            "239 activation_70\n",
            "240 activation_74\n",
            "241 conv2d_71\n",
            "242 conv2d_75\n",
            "243 batch_normalization_71\n",
            "244 batch_normalization_75\n",
            "245 activation_71\n",
            "246 activation_75\n",
            "247 max_pooling2d_3\n",
            "248 mixed8\n",
            "249 conv2d_80\n",
            "250 batch_normalization_80\n",
            "251 activation_80\n",
            "252 conv2d_77\n",
            "253 conv2d_81\n",
            "254 batch_normalization_77\n",
            "255 batch_normalization_81\n",
            "256 activation_77\n",
            "257 activation_81\n",
            "258 conv2d_78\n",
            "259 conv2d_79\n",
            "260 conv2d_82\n",
            "261 conv2d_83\n",
            "262 average_pooling2d_7\n",
            "263 conv2d_76\n",
            "264 batch_normalization_78\n",
            "265 batch_normalization_79\n",
            "266 batch_normalization_82\n",
            "267 batch_normalization_83\n",
            "268 conv2d_84\n",
            "269 batch_normalization_76\n",
            "270 activation_78\n",
            "271 activation_79\n",
            "272 activation_82\n",
            "273 activation_83\n",
            "274 batch_normalization_84\n",
            "275 activation_76\n",
            "276 mixed9_0\n",
            "277 concatenate\n",
            "278 activation_84\n",
            "279 mixed9\n",
            "280 conv2d_89\n",
            "281 batch_normalization_89\n",
            "282 activation_89\n",
            "283 conv2d_86\n",
            "284 conv2d_90\n",
            "285 batch_normalization_86\n",
            "286 batch_normalization_90\n",
            "287 activation_86\n",
            "288 activation_90\n",
            "289 conv2d_87\n",
            "290 conv2d_88\n",
            "291 conv2d_91\n",
            "292 conv2d_92\n",
            "293 average_pooling2d_8\n",
            "294 conv2d_85\n",
            "295 batch_normalization_87\n",
            "296 batch_normalization_88\n",
            "297 batch_normalization_91\n",
            "298 batch_normalization_92\n",
            "299 conv2d_93\n",
            "300 batch_normalization_85\n",
            "301 activation_87\n",
            "302 activation_88\n",
            "303 activation_91\n",
            "304 activation_92\n",
            "305 batch_normalization_93\n",
            "306 activation_85\n",
            "307 mixed9_1\n",
            "308 concatenate_1\n",
            "309 activation_93\n",
            "310 mixed10\n"
          ]
        }
      ]
    },
    {
      "cell_type": "code",
      "metadata": {
        "id": "CeMuGcaiZseY"
      },
      "source": [
        "# we are setting layers from 173 trainable\n",
        "for layer in model.layers[:172]:\n",
        "       layer.trainable = False\n",
        "for layer in model.layers[172:]:\n",
        "       layer.trainable = True"
      ],
      "execution_count": 19,
      "outputs": []
    },
    {
      "cell_type": "code",
      "metadata": {
        "id": "FU-I1AshZwKY"
      },
      "source": [
        "# we have to compile the network again, the upper layers of Inception V3 are learning now\n",
        "model.compile(optimizer=SGD(learning_rate=0.0001, momentum=0.9), metrics=['accuracy'], loss='categorical_crossentropy')"
      ],
      "execution_count": 20,
      "outputs": []
    },
    {
      "cell_type": "code",
      "metadata": {
        "colab": {
          "base_uri": "https://localhost:8080/"
        },
        "id": "9sISgib2Z8Mc",
        "outputId": "29c4f8a5-e95d-43e2-e8c2-6a1d26048156"
      },
      "source": [
        "# training\n",
        "model.fit_generator(train_generator,steps_per_epoch=200,validation_data=validation_generator,validation_steps=10,epochs=3)\n",
        "print(\"Training over.\")"
      ],
      "execution_count": 21,
      "outputs": [
        {
          "output_type": "stream",
          "name": "stderr",
          "text": [
            "/usr/local/lib/python3.7/dist-packages/ipykernel_launcher.py:2: UserWarning: `Model.fit_generator` is deprecated and will be removed in a future version. Please use `Model.fit`, which supports generators.\n",
            "  \n"
          ]
        },
        {
          "output_type": "stream",
          "name": "stdout",
          "text": [
            "Epoch 1/3\n",
            " 30/200 [===>..........................] - ETA: 2:04 - loss: 0.4331 - accuracy: 0.8833Your input ran out of data; interrupting training. Make sure that your dataset or generator can generate at least `steps_per_epoch * epochs` batches (in this case, 600 batches). You may need to use the repeat() function when building your dataset.\n",
            "200/200 [==============================] - 36s 136ms/step - loss: 0.4331 - accuracy: 0.8833 - val_loss: 0.1357 - val_accuracy: 0.9600\n",
            "Training over.\n"
          ]
        }
      ]
    },
    {
      "cell_type": "code",
      "metadata": {
        "id": "NeVPUjLIhMvL"
      },
      "source": [
        "# predicting for test dataset\n",
        "predicts=[]\n",
        "for category_name in ['boys', 'cars', 'dogs']:\n",
        "  for image_name in os.listdir('/images/test/' + category_name):\n",
        "      pred_vector=np.array([0,0,0])\n",
        "      img_path = '/images/test/' + category_name + '/' + image_name\n",
        "      img = image.load_img(img_path, target_size=(299, 299))\n",
        "      x = image.img_to_array(img)\n",
        "      x = np.expand_dims(x, axis=0)\n",
        "      x = preprocess_input(x)\n",
        "      preds = model.predict(x)\n",
        "      predicts.append(np.argmax(preds,axis=1))"
      ],
      "execution_count": 22,
      "outputs": []
    },
    {
      "cell_type": "code",
      "metadata": {
        "id": "PcVEo_FKjnzG"
      },
      "source": [
        "# reshaping predicts into a vector form\n",
        "predicts=np.asarray(predicts).reshape((300))"
      ],
      "execution_count": 23,
      "outputs": []
    },
    {
      "cell_type": "code",
      "metadata": {
        "id": "6zTATyumbxEA"
      },
      "source": [
        "# creating the right labels for the categories\n",
        "boy_array=np.zeros(100)\n",
        "car_array=np.ones(100)\n",
        "dog_array=np.ones(100)*2\n",
        "y_test=np.concatenate((boy_array, car_array), axis=0)\n",
        "y_test=np.concatenate((y_test, dog_array), axis=0)"
      ],
      "execution_count": 24,
      "outputs": []
    },
    {
      "cell_type": "code",
      "metadata": {
        "colab": {
          "base_uri": "https://localhost:8080/"
        },
        "id": "sZXUejEEfRyU",
        "outputId": "deabb194-eb15-4ea6-a1ba-e493a7abb6fc"
      },
      "source": [
        "y_test"
      ],
      "execution_count": 25,
      "outputs": [
        {
          "output_type": "execute_result",
          "data": {
            "text/plain": [
              "array([0., 0., 0., 0., 0., 0., 0., 0., 0., 0., 0., 0., 0., 0., 0., 0., 0.,\n",
              "       0., 0., 0., 0., 0., 0., 0., 0., 0., 0., 0., 0., 0., 0., 0., 0., 0.,\n",
              "       0., 0., 0., 0., 0., 0., 0., 0., 0., 0., 0., 0., 0., 0., 0., 0., 0.,\n",
              "       0., 0., 0., 0., 0., 0., 0., 0., 0., 0., 0., 0., 0., 0., 0., 0., 0.,\n",
              "       0., 0., 0., 0., 0., 0., 0., 0., 0., 0., 0., 0., 0., 0., 0., 0., 0.,\n",
              "       0., 0., 0., 0., 0., 0., 0., 0., 0., 0., 0., 0., 0., 0., 0., 1., 1.,\n",
              "       1., 1., 1., 1., 1., 1., 1., 1., 1., 1., 1., 1., 1., 1., 1., 1., 1.,\n",
              "       1., 1., 1., 1., 1., 1., 1., 1., 1., 1., 1., 1., 1., 1., 1., 1., 1.,\n",
              "       1., 1., 1., 1., 1., 1., 1., 1., 1., 1., 1., 1., 1., 1., 1., 1., 1.,\n",
              "       1., 1., 1., 1., 1., 1., 1., 1., 1., 1., 1., 1., 1., 1., 1., 1., 1.,\n",
              "       1., 1., 1., 1., 1., 1., 1., 1., 1., 1., 1., 1., 1., 1., 1., 1., 1.,\n",
              "       1., 1., 1., 1., 1., 1., 1., 1., 1., 1., 1., 1., 1., 2., 2., 2., 2.,\n",
              "       2., 2., 2., 2., 2., 2., 2., 2., 2., 2., 2., 2., 2., 2., 2., 2., 2.,\n",
              "       2., 2., 2., 2., 2., 2., 2., 2., 2., 2., 2., 2., 2., 2., 2., 2., 2.,\n",
              "       2., 2., 2., 2., 2., 2., 2., 2., 2., 2., 2., 2., 2., 2., 2., 2., 2.,\n",
              "       2., 2., 2., 2., 2., 2., 2., 2., 2., 2., 2., 2., 2., 2., 2., 2., 2.,\n",
              "       2., 2., 2., 2., 2., 2., 2., 2., 2., 2., 2., 2., 2., 2., 2., 2., 2.,\n",
              "       2., 2., 2., 2., 2., 2., 2., 2., 2., 2., 2.])"
            ]
          },
          "metadata": {},
          "execution_count": 25
        }
      ]
    },
    {
      "cell_type": "code",
      "metadata": {
        "id": "bFVI4Wsug5FV"
      },
      "source": [
        "#making confusion matrix with data: predictions and test data \n",
        "from sklearn.metrics import confusion_matrix, accuracy_score, precision_score, recall_score, f1_score\n",
        "conf=confusion_matrix(y_test,predicts)\n",
        "\n",
        "#https://scikit-learn.org/stable/modules/model_evaluation.html#confusion-matrix"
      ],
      "execution_count": 26,
      "outputs": []
    },
    {
      "cell_type": "code",
      "metadata": {
        "colab": {
          "base_uri": "https://localhost:8080/",
          "height": 279
        },
        "id": "GbzfVHEwkYMc",
        "outputId": "1dc97f19-5f4a-4a9e-e7e0-87a86ce52102"
      },
      "source": [
        "# printing the confusion matrix out\n",
        "import matplotlib.pyplot as plt\n",
        "import seaborn as sns;\n",
        "axis_labels = ['Boy', 'Car', 'Dog']\n",
        "ax = sns.heatmap(conf, annot=True, fmt='d', cmap=plt.cm.Blues, xticklabels=axis_labels, yticklabels=axis_labels)\n",
        "ax.set(xlabel='Predicted Label',\n",
        "       ylabel='True label');"
      ],
      "execution_count": 27,
      "outputs": [
        {
          "output_type": "display_data",
          "data": {
            "image/png": "[encoded data removed]",
            "text/plain": [
              "<Figure size 432x288 with 2 Axes>"
            ]
          },
          "metadata": {
            "needs_background": "light"
          }
        }
      ]
    },
    {
      "cell_type": "code",
      "metadata": {
        "colab": {
          "base_uri": "https://localhost:8080/"
        },
        "id": "HbH9__No8Ybs",
        "outputId": "f9edc348-3c95-4a77-893f-24a8b6ba5fc4"
      },
      "source": [
        "# printing metrics out\n",
        "print(\"test accuracy: %g\" %(accuracy_score(y_test, predicts)))\n",
        "print(\"Precision\", precision_score(y_test, predicts, average=\"macro\"))\n",
        "print(\"Recall\", recall_score(y_test, predicts, average=\"macro\"))\n",
        "print(\"f1_score\", f1_score(y_test, predicts, average=\"macro\"))"
      ],
      "execution_count": 28,
      "outputs": [
        {
          "output_type": "stream",
          "name": "stdout",
          "text": [
            "test accuracy: 0.93\n",
            "Precision 0.9342424242424242\n",
            "Recall 0.93\n",
            "f1_score 0.9305513784461154\n"
          ]
        }
      ]
    },
    {
      "cell_type": "code",
      "metadata": {
        "colab": {
          "base_uri": "https://localhost:8080/"
        },
        "id": "Tbg-O6uml_Sg",
        "outputId": "3dedf537-dd79-49bb-b616-00d44d139935"
      },
      "source": [
        "import gc\n",
        "gc.collect()"
      ],
      "execution_count": null,
      "outputs": [
        {
          "output_type": "execute_result",
          "data": {
            "text/plain": [
              "29246"
            ]
          },
          "metadata": {},
          "execution_count": 28
        }
      ]
    },
    {
      "cell_type": "code",
      "metadata": {
        "id": "0LLb_K6bsCmc"
      },
      "source": [
        ""
      ],
      "execution_count": null,
      "outputs": []
    }
  ]
}